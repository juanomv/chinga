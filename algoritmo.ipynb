{
 "cells": [
  {
   "cell_type": "code",
   "execution_count": 24,
   "id": "e4c7ee69-69a2-4109-8b92-ab5041a8ae27",
   "metadata": {},
   "outputs": [],
   "source": [
    "import pandas as pd\n",
    "import os\n",
    "df = pd.read_excel(\"ESTIMULOS POSITIVOS Data Export.xlsx\")"
   ]
  },
  {
   "cell_type": "code",
   "execution_count": 30,
   "id": "b4fa6ac9-562e-42e9-a742-cab4a2f68c92",
   "metadata": {},
   "outputs": [],
   "source": [
    "df = pd.read_excel(\"ESTIMULOS POSITIVOS 22 Data Export.xlsx\")"
   ]
  },
  {
   "cell_type": "code",
   "execution_count": 33,
   "id": "584416b5-207a-4758-ac9e-2e5e86b4690e",
   "metadata": {},
   "outputs": [],
   "source": [
    "df = pd.read_excel(\"ESTIMULOS NEGATIVOS Data Export.xlsx\")"
   ]
  },
  {
   "cell_type": "code",
   "execution_count": 35,
   "id": "027a6edd-ca71-4ca7-8757-ab771d685d4d",
   "metadata": {},
   "outputs": [],
   "source": [
    "df = pd.read_excel(\"ESTIMULOS NEGATIVOS 2 Data Export.xlsx\")"
   ]
  },
  {
   "cell_type": "code",
   "execution_count": 32,
   "id": "23b733ab-1f39-4298-b244-9334e3180399",
   "metadata": {},
   "outputs": [],
   "source": [
    "for index in range(1,11):\n",
    "    df_participante = df[df[\"Participant name\"] == f\"Participant{index}\"]\n",
    "    # la primera vez para crear las carpetas \n",
    "    os.makedirs(f\"Participante_{10+index}\")\n",
    "    # Escribiendo el archivo nuevo\n",
    "    #df_participante.to_excel(f\"Participante_{index}/participante_{index}_Posi.xlsx\", index=False)\n",
    "    df_participante.to_excel(f\"Participante_{10+index}/participante_{10+index}_Posi.xlsx\", index=False)\n",
    "    "
   ]
  },
  {
   "cell_type": "code",
   "execution_count": 36,
   "id": "6a7256f1-7d2f-4428-8645-843990ddad89",
   "metadata": {},
   "outputs": [],
   "source": [
    "for index in range(1,11):\n",
    "    df_participante = df[df[\"Participant name\"] == f\"Participant{index}\"]\n",
    "     # la primera vez para crear las carpetas \n",
    "    # Escribiendo el archivo nuevo\n",
    "    #df_participante.to_excel(f\"Participante_{index}/participante_{index}_Nega.xlsx\", index=False)\n",
    "    df_participante.to_excel(f\"Participante_{10+index}/participante_{10+index}_Nega.xlsx\", index=False)\n",
    "    "
   ]
  }
 ],
 "metadata": {
  "kernelspec": {
   "display_name": "Python 3 (ipykernel)",
   "language": "python",
   "name": "python3"
  },
  "language_info": {
   "codemirror_mode": {
    "name": "ipython",
    "version": 3
   },
   "file_extension": ".py",
   "mimetype": "text/x-python",
   "name": "python",
   "nbconvert_exporter": "python",
   "pygments_lexer": "ipython3",
   "version": "3.10.12"
  }
 },
 "nbformat": 4,
 "nbformat_minor": 5
}
